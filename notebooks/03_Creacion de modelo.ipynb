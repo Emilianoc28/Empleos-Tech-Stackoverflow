{
 "cells": [
  {
   "cell_type": "code",
   "execution_count": null,
   "id": "d7f0a7a8",
   "metadata": {},
   "outputs": [],
   "source": [
    "# libs\n",
    "import pandas as pd\n",
    "from sklearn.model_selection import train_test_split\n",
    "from sklearn.preprocessing import OneHotEncoder, StandardScaler\n",
    "from sklearn.compose import ColumnTransformer\n",
    "from sklearn.pipeline import Pipeline\n",
    "from sklearn.ensemble import RandomForestClassifier\n",
    "from sklearn.metrics import classification_report, confusion_matrix\n",
    "\n",
    "# 1. Carga de datos\n",
    "df = pd.read_csv(\"data/processed/stack_overflow.csv\")  # ajustá la ruta\n",
    "\n",
    "# 2. Variables objetivo y predictoras\n",
    "target = \"WantsToChangeJob\"  # ejemplo\n",
    "X = df.drop(columns=[target])\n",
    "y = df[target].map({\"Yes\":1, \"No\":0})\n",
    "\n",
    "# 3. Identificar columnas numéricas y categóricas\n",
    "num_cols = X.select_dtypes(include=[\"int64\",\"float64\"]).columns.tolist()\n",
    "cat_cols = X.select_dtypes(include=[\"object\",\"category\"]).columns.tolist()\n",
    "\n",
    "# 4. Pipeline de preprocesamiento\n",
    "preprocessor = ColumnTransformer(transformers=[\n",
    "    (\"num\", StandardScaler(), num_cols),\n",
    "    (\"cat\", OneHotEncoder(handle_unknown=\"ignore\", sparse=False), cat_cols),\n",
    "])\n",
    "\n",
    "# 5. Pipeline completo con modelo\n",
    "pipeline = Pipeline(steps=[\n",
    "    (\"pre\", preprocessor),\n",
    "    (\"clf\", RandomForestClassifier(n_estimators=100, random_state=42))\n",
    "])\n",
    "\n",
    "# 6. División de datos y entrenamiento\n",
    "X_train, X_test, y_train, y_test = train_test_split(X, y, \n",
    "                                                    test_size=0.2, \n",
    "                                                    stratify=y, \n",
    "                                                    random_state=42)\n",
    "pipeline.fit(X_train, y_train)\n",
    "\n",
    "# 7. Evaluación\n",
    "y_pred = pipeline.predict(X_test)\n",
    "print(classification_report(y_test, y_pred))\n",
    "print(confusion_matrix(y_test, y_pred))\n"
   ]
  }
 ],
 "metadata": {
  "kernelspec": {
   "display_name": "Python 3",
   "language": "python",
   "name": "python3"
  },
  "language_info": {
   "codemirror_mode": {
    "name": "ipython",
    "version": 3
   },
   "file_extension": ".py",
   "mimetype": "text/x-python",
   "name": "python",
   "nbconvert_exporter": "python",
   "pygments_lexer": "ipython3",
   "version": "3.11.9"
  }
 },
 "nbformat": 4,
 "nbformat_minor": 5
}
