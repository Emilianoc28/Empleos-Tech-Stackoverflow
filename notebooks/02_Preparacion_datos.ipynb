{
 "cells": [
  {
   "cell_type": "code",
   "execution_count": null,
   "id": "6af0a380",
   "metadata": {},
   "outputs": [
    {
     "data": {
      "text/html": [
       "<div>\n",
       "<style scoped>\n",
       "    .dataframe tbody tr th:only-of-type {\n",
       "        vertical-align: middle;\n",
       "    }\n",
       "\n",
       "    .dataframe tbody tr th {\n",
       "        vertical-align: top;\n",
       "    }\n",
       "\n",
       "    .dataframe thead th {\n",
       "        text-align: right;\n",
       "    }\n",
       "</style>\n",
       "<table border=\"1\" class=\"dataframe\">\n",
       "  <thead>\n",
       "    <tr style=\"text-align: right;\">\n",
       "      <th></th>\n",
       "      <th>DevType</th>\n",
       "      <th>Country</th>\n",
       "      <th>RemoteWork</th>\n",
       "      <th>LearnCode</th>\n",
       "      <th>ConvertedCompYearly</th>\n",
       "    </tr>\n",
       "  </thead>\n",
       "  <tbody>\n",
       "    <tr>\n",
       "      <th>0</th>\n",
       "      <td>Data scientist or machine learning specialist</td>\n",
       "      <td>Pakistan</td>\n",
       "      <td>Hybrid (some remote, some in-person)</td>\n",
       "      <td>On the job training;Other online resources (e....</td>\n",
       "      <td>7322.0</td>\n",
       "    </tr>\n",
       "    <tr>\n",
       "      <th>1</th>\n",
       "      <td>Academic researcher</td>\n",
       "      <td>Austria</td>\n",
       "      <td>Hybrid (some remote, some in-person)</td>\n",
       "      <td>Books / Physical media;Colleague;On the job tr...</td>\n",
       "      <td>30074.0</td>\n",
       "    </tr>\n",
       "    <tr>\n",
       "      <th>2</th>\n",
       "      <td>Data scientist or machine learning specialist</td>\n",
       "      <td>Turkey</td>\n",
       "      <td>Remote</td>\n",
       "      <td>Books / Physical media;Other online resources ...</td>\n",
       "      <td>91295.0</td>\n",
       "    </tr>\n",
       "    <tr>\n",
       "      <th>3</th>\n",
       "      <td>Developer, back-end</td>\n",
       "      <td>France</td>\n",
       "      <td>Remote</td>\n",
       "      <td>Books / Physical media;On the job training;Oth...</td>\n",
       "      <td>53703.0</td>\n",
       "    </tr>\n",
       "    <tr>\n",
       "      <th>4</th>\n",
       "      <td>Student</td>\n",
       "      <td>United States of America</td>\n",
       "      <td>Remote</td>\n",
       "      <td>Books / Physical media;Colleague;On the job tr...</td>\n",
       "      <td>110000.0</td>\n",
       "    </tr>\n",
       "  </tbody>\n",
       "</table>\n",
       "</div>"
      ],
      "text/plain": [
       "                                         DevType                   Country  \\\n",
       "0  Data scientist or machine learning specialist                  Pakistan   \n",
       "1                            Academic researcher                   Austria   \n",
       "2  Data scientist or machine learning specialist                    Turkey   \n",
       "3                            Developer, back-end                    France   \n",
       "4                                        Student  United States of America   \n",
       "\n",
       "                             RemoteWork  \\\n",
       "0  Hybrid (some remote, some in-person)   \n",
       "1  Hybrid (some remote, some in-person)   \n",
       "2                                Remote   \n",
       "3                                Remote   \n",
       "4                                Remote   \n",
       "\n",
       "                                           LearnCode  ConvertedCompYearly  \n",
       "0  On the job training;Other online resources (e....               7322.0  \n",
       "1  Books / Physical media;Colleague;On the job tr...              30074.0  \n",
       "2  Books / Physical media;Other online resources ...              91295.0  \n",
       "3  Books / Physical media;On the job training;Oth...              53703.0  \n",
       "4  Books / Physical media;Colleague;On the job tr...             110000.0  "
      ]
     },
     "execution_count": 1,
     "metadata": {},
     "output_type": "execute_result"
    }
   ],
   "source": [
    "#Cargar datos limpios del EDA\n",
    "import pandas as pd\n",
    "\n",
    "df = pd.read_csv('../data/processed/devs_limpios.csv')\n",
    "df.head()\n"
   ]
  },
  {
   "cell_type": "code",
   "execution_count": 2,
   "id": "e1255ee6",
   "metadata": {},
   "outputs": [],
   "source": [
    "#Limpieza y transformación\n",
    "# DevType → convertir en columnas binarias (multi-label)\n",
    "df['DevType'] = df['DevType'].str.split(';')\n",
    "\n",
    "# Convertir roles a variables dummies (solo los top 10 más comunes)\n",
    "from sklearn.preprocessing import MultiLabelBinarizer\n",
    "\n",
    "mlb = MultiLabelBinarizer()\n",
    "devtype_dummies = pd.DataFrame(mlb.fit_transform(df['DevType']),\n",
    "                               columns=mlb.classes_,\n",
    "                               index=df.index)\n",
    "\n",
    "# Opcional: quedate solo con los roles más comunes\n",
    "top_roles = devtype_dummies.sum().sort_values(ascending=False).head(10).index\n",
    "devtype_dummies = devtype_dummies[top_roles]\n"
   ]
  },
  {
   "cell_type": "code",
   "execution_count": 3,
   "id": "4e33ade5",
   "metadata": {},
   "outputs": [],
   "source": [
    "#Country → unificar países minoritarios en \"Other\"\n",
    "top_countries = df['Country'].value_counts().head(15).index\n",
    "df['Country'] = df['Country'].apply(lambda x: x if x in top_countries else 'Other')\n"
   ]
  },
  {
   "cell_type": "code",
   "execution_count": 4,
   "id": "d23347e5",
   "metadata": {},
   "outputs": [],
   "source": [
    "#RemoteWork → codificar como 1 (remoto) y 0 (presencial/otro)\n",
    "df['Remote'] = df['RemoteWork'].apply(lambda x: 1 if 'remote' in str(x).lower() else 0)\n"
   ]
  },
  {
   "cell_type": "code",
   "execution_count": 5,
   "id": "7fb74912",
   "metadata": {},
   "outputs": [],
   "source": [
    "#LearnCode → binaria: ¿aprendió por sí mismo?\n",
    "df['LearnCode'] = df['LearnCode'].str.lower()\n",
    "df['SelfTaught'] = df['LearnCode'].apply(lambda x: 1 if 'self-taught' in str(x) else 0)\n"
   ]
  },
  {
   "cell_type": "code",
   "execution_count": 6,
   "id": "e8bfd701",
   "metadata": {},
   "outputs": [],
   "source": [
    "#Unir todo\n",
    "df_final = pd.concat([df, devtype_dummies], axis=1)\n",
    "df_final.drop(columns=['DevType', 'LearnCode', 'RemoteWork'], inplace=True)\n"
   ]
  },
  {
   "cell_type": "code",
   "execution_count": 7,
   "id": "97e7e180",
   "metadata": {},
   "outputs": [],
   "source": [
    "#Opcional: eliminar outliers extremos de salario\n",
    "# Mantener salarios entre el percentil 5 y 95\n",
    "q_low = df_final['ConvertedCompYearly'].quantile(0.05)\n",
    "q_high = df_final['ConvertedCompYearly'].quantile(0.95)\n",
    "df_final = df_final[(df_final['ConvertedCompYearly'] >= q_low) &\n",
    "                    (df_final['ConvertedCompYearly'] <= q_high)]\n"
   ]
  },
  {
   "cell_type": "code",
   "execution_count": null,
   "id": "310fc1a8",
   "metadata": {},
   "outputs": [],
   "source": [
    "df_final.to_csv('../data/processed/devs_final.csv', index=False)\n",
    "\n",
    "#🎯 ¿Qué contiene devs_final.csv?\n",
    "#ConvertedCompYearly: salario anual.\n",
    "#Country, SelfTaught, Remote: variables limpias.\n",
    "#Roles como columnas binarias: Data scientist, Web developer, etc."
   ]
  }
 ],
 "metadata": {
  "kernelspec": {
   "display_name": "Python 3",
   "language": "python",
   "name": "python3"
  },
  "language_info": {
   "codemirror_mode": {
    "name": "ipython",
    "version": 3
   },
   "file_extension": ".py",
   "mimetype": "text/x-python",
   "name": "python",
   "nbconvert_exporter": "python",
   "pygments_lexer": "ipython3",
   "version": "3.12.1"
  }
 },
 "nbformat": 4,
 "nbformat_minor": 5
}
